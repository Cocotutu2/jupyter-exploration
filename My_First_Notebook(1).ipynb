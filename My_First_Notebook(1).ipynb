{
  "nbformat": 4,
  "nbformat_minor": 0,
  "metadata": {
    "colab": {
      "provenance": []
    },
    "kernelspec": {
      "name": "python3",
      "display_name": "Python 3"
    },
    "language_info": {
      "name": "python"
    }
  },
  "cells": [
    {
      "cell_type": "markdown",
      "source": [
        "# My first markdown cell in jupyter"
      ],
      "metadata": {
        "id": "rXpEPNrBZt5i"
      }
    },
    {
      "cell_type": "code",
      "source": [
        "print(\"Hello, World!\")"
      ],
      "metadata": {
        "colab": {
          "base_uri": "https://localhost:8080/"
        },
        "id": "MzT62dX-Z7I5",
        "outputId": "f35d0f74-fe5b-483b-bdb1-b09380ab07e0"
      },
      "execution_count": 2,
      "outputs": [
        {
          "output_type": "stream",
          "name": "stdout",
          "text": [
            "Hello, World!\n"
          ]
        }
      ]
    },
    {
      "cell_type": "markdown",
      "source": [
        "# Some code For fun so is not to boring."
      ],
      "metadata": {
        "id": "KRMisUQmakUL"
      }
    },
    {
      "cell_type": "code",
      "source": [
        "import random\n",
        "\n",
        "nouns = [\"cat\", \"dog\", \"banana\", \"robot\", \"mountain\"]\n",
        "adjectives = [\"funny\", \"loud\", \"bright\", \"shiny\", \"sleepy\"]\n",
        "verbs = [\"jumps\", \"runs\", \"flies\", \"eats\", \"sings\"]\n",
        "\n",
        "sentence = f\"The {random.choice(adjectives)} {random.choice(nouns)} {random.choice(verbs)} over the {random.choice(adjectives)} {random.choice(nouns)}.\"\n",
        "print(sentence)"
      ],
      "metadata": {
        "colab": {
          "base_uri": "https://localhost:8080/"
        },
        "id": "-sjGYvqzaMqH",
        "outputId": "64d4d023-e1d6-45c2-9616-a61950b3d901"
      },
      "execution_count": 6,
      "outputs": [
        {
          "output_type": "stream",
          "name": "stdout",
          "text": [
            "The funny robot runs over the funny banana.\n"
          ]
        }
      ]
    }
  ]
}
